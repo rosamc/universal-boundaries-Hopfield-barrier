{
 "cells": [
  {
   "cell_type": "code",
   "execution_count": 1,
   "id": "60f22e05",
   "metadata": {},
   "outputs": [],
   "source": [
    "import sys,os\n",
    "path_to_eigen=\"/Users/rosamartinezcorral/Documents/eigenlibrary/eigen-eigen-323c052e1731/\" #for backward compatibility, no longer required\n",
    "path_to_polynomials=\"\\\"/Users/rosamartinezcorral/Dropbox (HMS)/work2/shared_fromothers/polynomials_multiprecision/polynomials/include/polynomial/\\\"\"\n",
    "path_to_utilsGRF=\"\\\"/Users/rosamartinezcorral/Dropbox (HMS)/work2/shared/utilsGRF\\\"\" #GeneRegulatoryFunctions repo\n",
    "path_to_utilsGRF_=\"/Users/rosamartinezcorral/Dropbox (HMS)/work2/shared/utilsGRF\" #GeneRegulatoryFunctions repo\n",
    "sys.path.append(path_to_utilsGRF_)\n",
    "\n",
    "import AnalyseBoundarysearch\n",
    "import matplotlib.pyplot as plt\n",
    "import pandas as pd\n",
    "import numpy as np\n",
    "import BoundaryFinder as BF\n",
    "import alphashape\n",
    "import time"
   ]
  },
  {
   "cell_type": "code",
   "execution_count": 3,
   "id": "fb137c2d",
   "metadata": {},
   "outputs": [],
   "source": [
    "datafolder='/Users/rosamartinezcorral/Dropbox (HMS)/data/magic-universalb'\n",
    "subfolder=\"2021_12_13_N4univ\"\n",
    "parsets_limits=[3, 8, 13, 18, 23, 28, 33, 38, 43, 48, 53, 58, 63, 68, 73, 78]\n",
    "checkf=os.path.join(datafolder,subfolder,\"tocheck_N4univ\")\n",
    "checkedfiles1=[x for x in os.listdir(checkf) if \".out\" in x and \"checked\" in x]#all parameter sets tested with max derivative not at 0 and coincident result with mathematica\n"
   ]
  },
  {
   "cell_type": "code",
   "execution_count": 4,
   "id": "9a5e9a98",
   "metadata": {},
   "outputs": [
    {
     "name": "stdout",
     "output_type": "stream",
     "text": [
      "position Hill:0.880112, steepness Hill:1.06521\n"
     ]
    }
   ],
   "source": [
    "pH,sH=BF.position_steepness_hill(4)\n",
    "print(\"position Hill:%g, steepness Hill:%g\"%(pH,sH))"
   ]
  },
  {
   "cell_type": "code",
   "execution_count": 7,
   "id": "188021c1",
   "metadata": {},
   "outputs": [
    {
     "name": "stdout",
     "output_type": "stream",
     "text": [
      "4.739285667398896e-05 pHill: 0.8801117367933934 point: 0.8801 sHill: 1.0652056560632805 point: 1.06517\n",
      "0.0003183928566740102 pHill: 0.8801117367933934 point: 0.879999 sHill: 1.0652056560632805 point: 1.065\n",
      "0.0003503928566740422 pHill: 0.8801117367933934 point: 0.880107 sHill: 1.0652056560632805 point: 1.06486\n",
      "1.9392856673849934e-05 pHill: 0.8801117367933934 point: 0.880108 sHill: 1.0652056560632805 point: 1.06519\n",
      "0.00026839285667390467 pHill: 0.8801117367933934 point: 0.880109 sHill: 1.0652056560632805 point: 1.06494\n",
      "0.00031039285667389116 pHill: 0.8801117367933934 point: 0.879997 sHill: 1.0652056560632805 point: 1.06501\n",
      "5.3392856673828426e-05 pHill: 0.8801117367933934 point: 0.880104 sHill: 1.0652056560632805 point: 1.06516\n",
      "0.0002903928566739822 pHill: 0.8801117367933934 point: 0.879997 sHill: 1.0652056560632805 point: 1.06503\n",
      "0.0005063928566739762 pHill: 0.8801117367933934 point: 0.880111 sHill: 1.0652056560632805 point: 1.0647\n",
      "0.00014439285667389168 pHill: 0.8801117367933934 point: 0.880083 sHill: 1.0652056560632805 point: 1.06509\n",
      "0.000311919269887051 pHill: 0.8801117367933934 point: 0.880138 sHill: 1.0652056560632805 point: 1.06492\n",
      "0.00031239285667394867 pHill: 0.8801117367933934 point: 0.879995 sHill: 1.0652056560632805 point: 1.06501\n",
      "0.00015139285667387092 pHill: 0.8801117367933934 point: 0.880086 sHill: 1.0652056560632805 point: 1.06508\n",
      "0.0003073928566739159 pHill: 0.8801117367933934 point: 0.88 sHill: 1.0652056560632805 point: 1.06501\n",
      "0.0005763928566739907 pHill: 0.8801117367933934 point: 0.880051 sHill: 1.0652056560632805 point: 1.06469\n",
      "0.00015639285667390368 pHill: 0.8801117367933934 point: 0.880111 sHill: 1.0652056560632805 point: 1.06505\n",
      "0.0003073928566738049 pHill: 0.8801117367933934 point: 0.87999 sHill: 1.0652056560632805 point: 1.06502\n",
      "0.0007329192698871667 pHill: 0.8801117367933934 point: 0.880179 sHill: 1.0652056560632805 point: 1.06454\n",
      "0.00022939285667389342 pHill: 0.8801117367933934 point: 0.880048 sHill: 1.0652056560632805 point: 1.06504\n",
      "0.0002993928566739079 pHill: 0.8801117367933934 point: 0.879998 sHill: 1.0652056560632805 point: 1.06502\n",
      "0.0004943928566739642 pHill: 0.8801117367933934 point: 0.880053 sHill: 1.0652056560632805 point: 1.06477\n",
      "0.0001503928566739532 pHill: 0.8801117367933934 point: 0.880087 sHill: 1.0652056560632805 point: 1.06508\n",
      "0.00032939285667399343 pHill: 0.8801117367933934 point: 0.879988 sHill: 1.0652056560632805 point: 1.065\n",
      "0.0007333928566739534 pHill: 0.8801117367933934 point: 0.880094 sHill: 1.0652056560632805 point: 1.06449\n",
      "5.839285667386118e-05 pHill: 0.8801117367933934 point: 0.880099 sHill: 1.0652056560632805 point: 1.06516\n",
      "0.00025091926988718427 pHill: 0.8801117367933934 point: 0.880127 sHill: 1.0652056560632805 point: 1.06497\n",
      "0.00032439285667396067 pHill: 0.8801117367933934 point: 0.879983 sHill: 1.0652056560632805 point: 1.06501\n",
      "3.739285667403447e-05 pHill: 0.8801117367933934 point: 0.88011 sHill: 1.0652056560632805 point: 1.06517\n",
      "0.0002863928566739782 pHill: 0.8801117367933934 point: 0.880091 sHill: 1.0652056560632805 point: 1.06494\n",
      "0.00032039285667395667 pHill: 0.8801117367933934 point: 0.879997 sHill: 1.0652056560632805 point: 1.065\n",
      "0.00026039285667389667 pHill: 0.8801117367933934 point: 0.880037 sHill: 1.0652056560632805 point: 1.06502\n",
      "0.0003263928566740182 pHill: 0.8801117367933934 point: 0.879991 sHill: 1.0652056560632805 point: 1.065\n",
      "0.0005253928566738564 pHill: 0.8801117367933934 point: 0.880042 sHill: 1.0652056560632805 point: 1.06475\n",
      "0.00020639285667389817 pHill: 0.8801117367933934 point: 0.880101 sHill: 1.0652056560632805 point: 1.06501\n",
      "0.0003013928566738544 pHill: 0.8801117367933934 point: 0.880066 sHill: 1.0652056560632805 point: 1.06495\n",
      "0.0003183928566740102 pHill: 0.8801117367933934 point: 0.879999 sHill: 1.0652056560632805 point: 1.065\n",
      "7.139285667390194e-05 pHill: 0.8801117367933934 point: 0.880106 sHill: 1.0652056560632805 point: 1.06514\n",
      "0.0003233928566739319 pHill: 0.8801117367933934 point: 0.879984 sHill: 1.0652056560632805 point: 1.06501\n",
      "0.0005413928566738724 pHill: 0.8801117367933934 point: 0.880106 sHill: 1.0652056560632805 point: 1.06467\n",
      "4.939285667393545e-05 pHill: 0.8801117367933934 point: 0.880098 sHill: 1.0652056560632805 point: 1.06517\n",
      "0.0002859192698870805 pHill: 0.8801117367933934 point: 0.880112 sHill: 1.0652056560632805 point: 1.06492\n",
      "0.0003193928566739279 pHill: 0.8801117367933934 point: 0.879988 sHill: 1.0652056560632805 point: 1.06501\n",
      "0.00010039285667384767 pHill: 0.8801117367933934 point: 0.880097 sHill: 1.0652056560632805 point: 1.06512\n",
      "0.0002993928566739079 pHill: 0.8801117367933934 point: 0.879998 sHill: 1.0652056560632805 point: 1.06502\n",
      "0.0003413928566738944 pHill: 0.8801117367933934 point: 0.880066 sHill: 1.0652056560632805 point: 1.06491\n",
      "0.00011339285667399945 pHill: 0.8801117367933934 point: 0.880104 sHill: 1.0652056560632805 point: 1.0651\n",
      "0.00031939285667403894 pHill: 0.8801117367933934 point: 0.879998 sHill: 1.0652056560632805 point: 1.065\n",
      "0.00042839285667395366 pHill: 0.8801117367933934 point: 0.880079 sHill: 1.0652056560632805 point: 1.06481\n"
     ]
    }
   ],
   "source": [
    "\n",
    "for f in checkedfiles1:\n",
    "    #print(f)\n",
    "    num=int(f.split(\"_\")[2])\n",
    "    #print(f,num)\n",
    "    if num in parsets_limits:\n",
    "        data=pd.read_csv(os.path.join(checkf,f),sep=\",|;\",engine=\"python\") #sep and engine are used to indicate that there are 2 separators\n",
    "        pos=data[\"pos\"].values\n",
    "        stp=data[\"rho\"].values\n",
    "        #find closest to hill:\n",
    "        dif=np.abs(pos-pH)+np.abs(stp-sH)\n",
    "        argsort=np.argsort(dif)\n",
    "        for idx in argsort[0:3]:\n",
    "            print(dif[idx],\"pHill:\",pH, \"point:\", pos[idx], \"sHill:\", sH, \"point:\", stp[idx])\n",
    "\n"
   ]
  },
  {
   "cell_type": "code",
   "execution_count": null,
   "id": "6ab35a7b",
   "metadata": {},
   "outputs": [],
   "source": []
  }
 ],
 "metadata": {
  "kernelspec": {
   "display_name": "Python 3",
   "language": "python",
   "name": "python3"
  },
  "language_info": {
   "codemirror_mode": {
    "name": "ipython",
    "version": 3
   },
   "file_extension": ".py",
   "mimetype": "text/x-python",
   "name": "python",
   "nbconvert_exporter": "python",
   "pygments_lexer": "ipython3",
   "version": "3.8.8"
  },
  "nbTranslate": {
   "displayLangs": [
    "*"
   ],
   "hotkey": "alt-t",
   "langInMainMenu": true,
   "sourceLang": "en",
   "targetLang": "fr",
   "useGoogleTranslate": true
  },
  "toc": {
   "base_numbering": 1,
   "nav_menu": {},
   "number_sections": true,
   "sideBar": true,
   "skip_h1_title": false,
   "title_cell": "Table of Contents",
   "title_sidebar": "Contents",
   "toc_cell": false,
   "toc_position": {},
   "toc_section_display": true,
   "toc_window_display": false
  }
 },
 "nbformat": 4,
 "nbformat_minor": 5
}
