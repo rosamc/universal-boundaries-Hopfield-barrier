{
 "cells": [
  {
   "cell_type": "code",
   "execution_count": 1,
   "id": "1c90ef33",
   "metadata": {},
   "outputs": [],
   "source": [
    "import numpy as np\n",
    "import matplotlib.pyplot as plt\n",
    "import os, sys\n",
    "import itertools\n",
    "sys.path.append(\"../bin\")\n"
   ]
  },
  {
   "cell_type": "code",
   "execution_count": 2,
   "id": "71c13f3f",
   "metadata": {},
   "outputs": [
    {
     "name": "stdout",
     "output_type": "stream",
     "text": [
      "{'1': 2, '2': 3, '3': 4, '4': 5, '1_2': 6, '1_3': 7, '1_4': 8, '2_3': 9, '2_4': 10, '3_4': 11, '1_2_3': 12, '1_2_4': 13, '1_3_4': 14, '2_3_4': 15, '1_2_3_4': 16}\n",
      "{1} {1, 2} 2 6\n",
      "{1} {1, 3} 2 7\n",
      "{1} {1, 4} 2 8\n",
      "{2} {1, 2} 3 6\n",
      "{2} {2, 3} 3 9\n",
      "{2} {2, 4} 3 10\n",
      "{3} {1, 3} 4 7\n",
      "{3} {2, 3} 4 9\n",
      "{3} {3, 4} 4 11\n",
      "{4} {1, 4} 5 8\n",
      "{4} {2, 4} 5 10\n",
      "{4} {3, 4} 5 11\n",
      "{1, 2} {1, 2, 3} 6 12\n",
      "{1, 2} {1, 2, 4} 6 13\n",
      "{1, 3} {1, 2, 3} 7 12\n",
      "{1, 3} {1, 3, 4} 7 14\n",
      "{1, 4} {1, 2, 4} 8 13\n",
      "{1, 4} {1, 3, 4} 8 14\n",
      "{2, 3} {1, 2, 3} 9 12\n",
      "{2, 3} {2, 3, 4} 9 15\n",
      "{2, 4} {1, 2, 4} 10 13\n",
      "{2, 4} {2, 3, 4} 10 15\n",
      "{3, 4} {1, 3, 4} 11 14\n",
      "{3, 4} {2, 3, 4} 11 15\n",
      "{1, 2, 3} {1, 2, 3, 4} 12 16\n",
      "{1, 2, 4} {1, 2, 3, 4} 13 16\n",
      "{1, 3, 4} {1, 2, 3, 4} 14 16\n",
      "{2, 3, 4} {1, 2, 3, 4} 15 16\n"
     ]
    },
    {
     "data": {
      "text/plain": [
       "[('1', '2', 'a_1_2'),\n",
       " ('2', '1', 'b_1_2'),\n",
       " ('1', '3', 'a_1_3'),\n",
       " ('3', '1', 'b_1_3'),\n",
       " ('1', '4', 'a_1_4'),\n",
       " ('4', '1', 'b_1_4'),\n",
       " ('1', '5', 'a_1_5'),\n",
       " ('5', '1', 'b_1_5'),\n",
       " ('2', '6', 'a_2_6'),\n",
       " ('6', '2', 'b_2_6'),\n",
       " ('2', '7', 'a_2_7'),\n",
       " ('7', '2', 'b_2_7'),\n",
       " ('2', '8', 'a_2_8'),\n",
       " ('8', '2', 'b_2_8'),\n",
       " ('3', '6', 'a_3_6'),\n",
       " ('6', '3', 'b_3_6'),\n",
       " ('3', '9', 'a_3_9'),\n",
       " ('9', '3', 'b_3_9'),\n",
       " ('3', '10', 'a_3_10'),\n",
       " ('10', '3', 'b_3_10'),\n",
       " ('4', '7', 'a_4_7'),\n",
       " ('7', '4', 'b_4_7'),\n",
       " ('4', '9', 'a_4_9'),\n",
       " ('9', '4', 'b_4_9'),\n",
       " ('4', '11', 'a_4_11'),\n",
       " ('11', '4', 'b_4_11'),\n",
       " ('5', '8', 'a_5_8'),\n",
       " ('8', '5', 'b_5_8'),\n",
       " ('5', '10', 'a_5_10'),\n",
       " ('10', '5', 'b_5_10'),\n",
       " ('5', '11', 'a_5_11'),\n",
       " ('11', '5', 'b_5_11'),\n",
       " ('6', '12', 'a_6_12'),\n",
       " ('12', '6', 'b_6_12'),\n",
       " ('6', '13', 'a_6_13'),\n",
       " ('13', '6', 'b_6_13'),\n",
       " ('7', '12', 'a_7_12'),\n",
       " ('12', '7', 'b_7_12'),\n",
       " ('7', '14', 'a_7_14'),\n",
       " ('14', '7', 'b_7_14'),\n",
       " ('8', '13', 'a_8_13'),\n",
       " ('13', '8', 'b_8_13'),\n",
       " ('8', '14', 'a_8_14'),\n",
       " ('14', '8', 'b_8_14'),\n",
       " ('9', '12', 'a_9_12'),\n",
       " ('12', '9', 'b_9_12'),\n",
       " ('9', '15', 'a_9_15'),\n",
       " ('15', '9', 'b_9_15'),\n",
       " ('10', '13', 'a_10_13'),\n",
       " ('13', '10', 'b_10_13'),\n",
       " ('10', '15', 'a_10_15'),\n",
       " ('15', '10', 'b_10_15'),\n",
       " ('11', '14', 'a_11_14'),\n",
       " ('14', '11', 'b_11_14'),\n",
       " ('11', '15', 'a_11_15'),\n",
       " ('15', '11', 'b_11_15'),\n",
       " ('12', '16', 'a_12_16'),\n",
       " ('16', '12', 'b_12_16'),\n",
       " ('13', '16', 'a_13_16'),\n",
       " ('16', '13', 'b_13_16'),\n",
       " ('14', '16', 'a_14_16'),\n",
       " ('16', '14', 'b_14_16'),\n",
       " ('15', '16', 'a_15_16'),\n",
       " ('16', '15', 'b_15_16')]"
      ]
     },
     "execution_count": 2,
     "metadata": {},
     "output_type": "execute_result"
    }
   ],
   "source": [
    "#get the edges for the hypercube for N=4\n",
    "levels=[]\n",
    "for k in [1,2,3,4]:\n",
    "    levels.append([set(x) for x in (itertools.combinations(range(1,5),k))])\n",
    "j=2\n",
    "state_ids=dict()\n",
    "for level in levels:\n",
    "    for x in level:\n",
    "        state_ids[\"_\".join(list(map(str,x)))]=j\n",
    "        j+=1\n",
    "print(state_ids)\n",
    "edges=[]\n",
    "for i in range(2,6):\n",
    "    edges.append((\"1\",\"%s\"%i,\"a_1_%s\"%i))\n",
    "    edges.append((\"%s\"%i,\"1\",\"b_1_%s\"%i))\n",
    "\n",
    "for j in range(4):\n",
    "    if j==0:\n",
    "        states0=set()\n",
    "    else:\n",
    "        states0=levels[j-1]\n",
    "    states1=levels[j]\n",
    "    #print(states0,states1)\n",
    "    for state0 in states0:\n",
    "        for state1 in states1:\n",
    "            if state0.issubset(state1):\n",
    "                str0=\"_\".join(list(map(str,state0)))\n",
    "                str1=\"_\".join(list(map(str,state1)))\n",
    "                origin=state_ids[str0]\n",
    "                target=state_ids[str1]\n",
    "                print(state0,state1, origin, target)\n",
    "                edges.append((str(origin),str(target),\"a_%s_%s\"%(origin,target)))\n",
    "                edges.append((str(target),str(origin),\"b_%s_%s\"%(origin,target)))\n",
    "edges\n"
   ]
  },
  {
   "cell_type": "markdown",
   "id": "541244ab",
   "metadata": {},
   "source": [
    "The list 'edges' contains tuples where the first element is the source node index, the second element is the target node index, and the third element is the label name. The label name starts with a if it is a binding rate, and with b if it is an unbinding rate. If it is a binding rate, the format is a_source_target, whereas if it is an unbinding rate, the format is b_target_source. The node with nothing bound has index 1."
   ]
  },
  {
   "cell_type": "code",
   "execution_count": 3,
   "id": "8068354f",
   "metadata": {},
   "outputs": [
    {
     "name": "stdout",
     "output_type": "stream",
     "text": [
      "InternalType a_1_2 = pars[0];\n",
      "InternalType b_1_2 = pars[1];\n",
      "InternalType a_1_3 = pars[2];\n",
      "InternalType b_1_3 = pars[3];\n",
      "InternalType a_1_4 = pars[4];\n",
      "InternalType b_1_4 = pars[5];\n",
      "InternalType a_1_5 = pars[6];\n",
      "InternalType b_1_5 = pars[7];\n",
      "InternalType a_2_6 = pars[8];\n",
      "InternalType b_2_6 = pars[9];\n",
      "InternalType a_2_7 = pars[10];\n",
      "InternalType b_2_7 = pars[11];\n",
      "InternalType a_2_8 = pars[12];\n",
      "InternalType b_2_8 = pars[13];\n",
      "InternalType a_3_6 = pars[14];\n",
      "InternalType b_3_6 = pars[15];\n",
      "InternalType a_3_9 = pars[16];\n",
      "InternalType b_3_9 = pars[17];\n",
      "InternalType a_3_10 = pars[18];\n",
      "InternalType b_3_10 = pars[19];\n",
      "InternalType a_4_7 = pars[20];\n",
      "InternalType b_4_7 = pars[21];\n",
      "InternalType a_4_9 = pars[22];\n",
      "InternalType b_4_9 = pars[23];\n",
      "InternalType a_4_11 = pars[24];\n",
      "InternalType b_4_11 = pars[25];\n",
      "InternalType a_5_8 = pars[26];\n",
      "InternalType b_5_8 = pars[27];\n",
      "InternalType a_5_10 = pars[28];\n",
      "InternalType b_5_10 = pars[29];\n",
      "InternalType a_5_11 = pars[30];\n",
      "InternalType b_5_11 = pars[31];\n",
      "InternalType a_6_12 = pars[32];\n",
      "InternalType b_6_12 = pars[33];\n",
      "InternalType a_6_13 = pars[34];\n",
      "InternalType b_6_13 = pars[35];\n",
      "InternalType a_7_12 = pars[36];\n",
      "InternalType b_7_12 = pars[37];\n",
      "InternalType a_7_14 = pars[38];\n",
      "InternalType b_7_14 = pars[39];\n",
      "InternalType a_8_13 = pars[40];\n",
      "InternalType b_8_13 = pars[41];\n",
      "InternalType a_8_14 = pars[42];\n",
      "InternalType b_8_14 = pars[43];\n",
      "InternalType a_9_12 = pars[44];\n",
      "InternalType b_9_12 = pars[45];\n",
      "InternalType a_9_15 = pars[46];\n",
      "InternalType b_9_15 = pars[47];\n",
      "InternalType a_10_13 = pars[48];\n",
      "InternalType b_10_13 = pars[49];\n",
      "InternalType a_10_15 = pars[50];\n",
      "InternalType b_10_15 = pars[51];\n",
      "InternalType a_11_14 = pars[52];\n",
      "InternalType b_11_14 = pars[53];\n",
      "InternalType a_11_15 = pars[54];\n",
      "InternalType b_11_15 = pars[55];\n",
      "InternalType a_12_16 = pars[56];\n",
      "InternalType b_12_16 = pars[57];\n",
      "InternalType a_13_16 = pars[58];\n",
      "InternalType b_13_16 = pars[59];\n",
      "InternalType a_14_16 = pars[60];\n",
      "InternalType b_14_16 = pars[61];\n",
      "InternalType a_15_16 = pars[62];\n",
      "InternalType b_15_16 = pars[63];\n"
     ]
    }
   ],
   "source": [
    "#print for cpp code\n",
    "i=0\n",
    "for edge in edges:\n",
    "    print(\"InternalType\", edge[-1], \"= pars[%d];\"%i)\n",
    "    i+=1"
   ]
  },
  {
   "cell_type": "code",
   "execution_count": 4,
   "id": "ce3248ee",
   "metadata": {},
   "outputs": [
    {
     "name": "stdout",
     "output_type": "stream",
     "text": [
      "0,b_1_2,b_1_3,b_1_4,b_1_5,0,0,0,0,0,0,0,0,0,0,0,\n",
      "a_1_2*x,0,0,0,0,b_2_6,b_2_7,b_2_8,0,0,0,0,0,0,0,0,\n",
      "a_1_3*x,0,0,0,0,b_3_6,0,0,b_3_9,b_3_10,0,0,0,0,0,0,\n",
      "a_1_4*x,0,0,0,0,0,b_4_7,0,b_4_9,0,b_4_11,0,0,0,0,0,\n",
      "a_1_5*x,0,0,0,0,0,0,b_5_8,0,b_5_10,b_5_11,0,0,0,0,0,\n",
      "0,a_2_6*x,a_3_6*x,0,0,0,0,0,0,0,0,b_6_12,b_6_13,0,0,0,\n",
      "0,a_2_7*x,0,a_4_7*x,0,0,0,0,0,0,0,b_7_12,0,b_7_14,0,0,\n",
      "0,a_2_8*x,0,0,a_5_8*x,0,0,0,0,0,0,0,b_8_13,b_8_14,0,0,\n",
      "0,0,a_3_9*x,a_4_9*x,0,0,0,0,0,0,0,b_9_12,0,0,b_9_15,0,\n",
      "0,0,a_3_10*x,0,a_5_10*x,0,0,0,0,0,0,0,b_10_13,0,b_10_15,0,\n",
      "0,0,0,a_4_11*x,a_5_11*x,0,0,0,0,0,0,0,0,b_11_14,b_11_15,0,\n",
      "0,0,0,0,0,a_6_12*x,a_7_12*x,0,a_9_12*x,0,0,0,0,0,0,b_12_16,\n",
      "0,0,0,0,0,a_6_13*x,0,a_8_13*x,0,a_10_13*x,0,0,0,0,0,b_13_16,\n",
      "0,0,0,0,0,0,a_7_14*x,a_8_14*x,0,0,a_11_14*x,0,0,0,0,b_14_16,\n",
      "0,0,0,0,0,0,0,0,a_9_15*x,a_10_15*x,a_11_15*x,0,0,0,0,b_15_16,\n",
      "0,0,0,0,0,0,0,0,0,0,0,a_12_16*x,a_13_16*x,a_14_16*x,a_15_16*x,0,\n"
     ]
    }
   ],
   "source": [
    "#print laplacian for cpp code\n",
    "L=np.zeros((16,16),dtype=\"object\")\n",
    "\n",
    "\n",
    "for edge in edges:\n",
    "    origin,target,label=edge\n",
    "    if \"a\" in label:\n",
    "        label=label+\"*x\"\n",
    "    L[int(target)-1,int(origin)-1]=label\n",
    "for row in L:\n",
    "    print(\",\".join(list(map(str,row))),end=\",\\n\")"
   ]
  },
  {
   "cell_type": "markdown",
   "id": "a04c11ca",
   "metadata": {},
   "source": [
    "Now use what has been printed above to make a .cpp file with the code to solve for the laplacian nullspace using the svd given an input value for x.\n",
    "\n",
    "I created 2 files: one with 100 digit precision, and another with 25 digit precision (faster but less accurate).\n",
    "\n",
    "Once the file is created, compile as follows:"
   ]
  },
  {
   "cell_type": "code",
   "execution_count": 5,
   "id": "e1e2ca3e",
   "metadata": {},
   "outputs": [],
   "source": [
    "path_to_eigen=\"/Users/rosamartinezcorral/Documents/eigenlibrary/eigen-eigen-323c052e1731/\" #for backward compatibility, no longer required\n"
   ]
  },
  {
   "cell_type": "code",
   "execution_count": 6,
   "id": "90337c8b",
   "metadata": {},
   "outputs": [
    {
     "name": "stdout",
     "output_type": "stream",
     "text": [
      "c++ -O2 -DNDEBUG -Wall -shared -std=c++11  -fPIC -undefined dynamic_lookup -lmpfr -lmpc -I /Users/rosamartinezcorral/Documents/eigenlibrary/eigen-eigen-323c052e1731/  `python3 -m pybind11 --includes` ../bin/N4av_noneq_100.cpp -o ../bin/N4av_noneq_100`python3-config --extension-suffix`\n"
     ]
    }
   ],
   "source": [
    "fname=\"../bin/N4av_noneq_100.cpp\"\n",
    "path_1,file=os.path.split(fname)\n",
    "objectnamemac=os.path.join(path_1,file.replace('.cpp','')) \n",
    "\n",
    "compilestringmac=\"c++ -O2 -DNDEBUG -Wall -shared -std=c++11  -fPIC -undefined dynamic_lookup -lmpfr -lmpc -I %s  `python3 -m pybind11 --includes` %s -o %s`python3-config --extension-suffix`\"%(path_to_eigen,fname,objectnamemac)\n",
    "\n",
    "compilestring=compilestringmac\n",
    "print(compilestring)\n",
    "\n",
    "!$compilestring"
   ]
  },
  {
   "cell_type": "code",
   "execution_count": 7,
   "id": "10fae4d4",
   "metadata": {},
   "outputs": [
    {
     "name": "stdout",
     "output_type": "stream",
     "text": [
      "c++ -O2 -DNDEBUG -Wall -shared -std=c++11  -fPIC -undefined dynamic_lookup -lmpfr -lmpc -I /Users/rosamartinezcorral/Documents/eigenlibrary/eigen-eigen-323c052e1731/  `python3 -m pybind11 --includes` ../bin/N4av_noneq_25.cpp -o ../bin/N4av_noneq_25`python3-config --extension-suffix`\n"
     ]
    }
   ],
   "source": [
    "fname=\"../bin/N4av_noneq_25.cpp\"\n",
    "path_1,file=os.path.split(fname)\n",
    "objectnamemac=os.path.join(path_1,file.replace('.cpp','')) \n",
    "\n",
    "compilestringmac=\"c++ -O2 -DNDEBUG -Wall -shared -std=c++11  -fPIC -undefined dynamic_lookup -lmpfr -lmpc -I %s  `python3 -m pybind11 --includes` %s -o %s`python3-config --extension-suffix`\"%(path_to_eigen,fname,objectnamemac)\n",
    "\n",
    "compilestring=compilestringmac\n",
    "print(compilestring)\n",
    "\n",
    "!$compilestring"
   ]
  },
  {
   "cell_type": "markdown",
   "id": "fce04bd9",
   "metadata": {},
   "source": [
    "Then the code can be imported:"
   ]
  },
  {
   "cell_type": "code",
   "execution_count": 6,
   "id": "4085a8be",
   "metadata": {},
   "outputs": [],
   "source": [
    "import N4av_noneq_100\n",
    "import N4av #this is the equilibrium version of the code, used to doublecheck that the code works. Results should be the same when the rates for the non-eq model satisfy cycle condition."
   ]
  },
  {
   "cell_type": "markdown",
   "id": "93a5cdc4",
   "metadata": {},
   "source": [
    "In order to doublecheck the code, convert equilibrium parameters (affinities and cooperativities) into the corresponding rates, by setting the backward rates to 1."
   ]
  },
  {
   "cell_type": "code",
   "execution_count": 7,
   "id": "fb8c2581",
   "metadata": {},
   "outputs": [],
   "source": [
    "#way to convert the equilibrium parameters into the on-rate label values so I can doublecheck new code with code previously used using the mus and mtt\n",
    "def fill_dict(pars):\n",
    "    K1=pars[0];\n",
    "    K2=pars[1];\n",
    "    K3=pars[2];\n",
    "    K4=pars[3];\n",
    "    w12=pars[4];\n",
    "    w13=pars[5];\n",
    "    w14=pars[6];\n",
    "    w23=pars[7];\n",
    "    w24=pars[8];\n",
    "    w34=pars[9];\n",
    "    w123=pars[10];\n",
    "    w124=pars[11];\n",
    "    w134=pars[12];\n",
    "    w234=pars[13];\n",
    "    w1234=pars[14];\n",
    "    \n",
    "\n",
    "    w312=w123*w23/w12\n",
    "    w412=w124*w24/w12\n",
    "    w213=w123*w23/w13\n",
    "    w413=w134*w34/w13\n",
    "    w214=w24*w124/w14\n",
    "    w314=w134*w34/w14\n",
    "    w423=w234*w34/w23\n",
    "    w324=w234*w34/w24\n",
    "\n",
    "    w4123=w1234*w234*w34/(w23*w123)\n",
    "    w3124=w1234*w234*w34/(w24*w124)\n",
    "    w2134=w1234*w234*w34/(w34*w134)\n",
    "\n",
    "    d=dict()\n",
    "    d[\"a_1_2\"]=K1\n",
    "    d[\"a_1_3\"]=K2\n",
    "    d[\"a_1_4\"]=K3\n",
    "    d[\"a_1_5\"]=K4\n",
    "    d[\"a_2_6\"]=K2*w12\n",
    "    d[\"a_2_7\"]=K3*w13\n",
    "    d[\"a_2_8\"]=K4*w14\n",
    "    d[\"a_3_6\"]=K1*w12\n",
    "    d[\"a_3_9\"]=K3*w23\n",
    "    d[\"a_3_10\"]=K4*w24\n",
    "    d[\"a_4_7\"]=K1*w13\n",
    "    d[\"a_4_9\"]=K2*w23\n",
    "    d[\"a_4_11\"]=K4*w34\n",
    "    d[\"a_5_8\"]=K1*w14\n",
    "    d[\"a_5_10\"]=K2*w24\n",
    "    d[\"a_5_11\"]=K3*w34\n",
    "    d[\"a_6_12\"]=K3*w312\n",
    "    d[\"a_6_13\"]=K4*w412\n",
    "    d[\"a_7_12\"]=K2*w213\n",
    "    d[\"a_7_14\"]=K4*w413\n",
    "    d[\"a_8_13\"]=K2*w214\n",
    "    d[\"a_8_14\"]=K3*w314\n",
    "    d[\"a_9_12\"]=K1*w123\n",
    "    d[\"a_9_15\"]=K4*w423\n",
    "    d[\"a_10_15\"]=K3*w324\n",
    "    d[\"a_10_13\"]=K1*w124\n",
    "    d[\"a_11_14\"]=K1*w134\n",
    "    d[\"a_11_15\"]=K2*w234\n",
    "    d[\"a_12_16\"]=K4*w4123\n",
    "    d[\"a_13_16\"]=K3*w3124\n",
    "    d[\"a_14_16\"]=K2*w2134\n",
    "    d[\"a_15_16\"]=K1*w1234\n",
    "    return d\n",
    "\n",
    "def get_pars_forcpp(labeldict):\n",
    "    pars_forcpp=np.zeros(64)\n",
    "    for e,edge in enumerate(edges):\n",
    "        a,b,label=edge\n",
    "        if \"a\" in label:\n",
    "            value=labeldict[label]\n",
    "        else:\n",
    "            value=1\n",
    "        pars_forcpp[e]=value\n",
    "    return pars_forcpp"
   ]
  },
  {
   "cell_type": "code",
   "execution_count": 15,
   "id": "4c2007b9",
   "metadata": {},
   "outputs": [],
   "source": [
    "def calculate_ps_fromnumerics(pars):\n",
    "    #For the non-eq model, approximate position-steepness numerically from calculating the curve\n",
    "    #subsequently I have refined this routine to use interpolation\n",
    "    xvals=np.logspace(-10,10,100)\n",
    "    \n",
    "    f=[]\n",
    "    for x in xvals:\n",
    "        f.append(N4av_noneq_100.getGRFval(pars,x))\n",
    "    \n",
    "    #first get midpoint\n",
    "    min_=np.min(f)\n",
    "    max_=np.max(f)\n",
    "    midpoint=min_+0.5*(max_-min_)\n",
    "    #then get points around x05\n",
    "    x05=xvals[np.where(f>=midpoint)[0][0]]\n",
    "    xvals=np.logspace(np.log10(0.001*x05),np.log10(100*x05),2000)\n",
    "    f=[]\n",
    "    for x in xvals:\n",
    "        f.append(N4av_noneq_100.getGRFval(pars,x))\n",
    "    x05=xvals[np.where(f>=midpoint)[0][0]] #recalculate, now it will be more accurate\n",
    "    print(midpoint,x05)\n",
    "    derivative=np.diff(f)/np.diff(xvals)\n",
    "    argmax=np.argmax(np.abs(derivative))\n",
    "    pos=xvals[argmax]/x05\n",
    "    stp=derivative[argmax]*x05\n",
    "    return [pos,stp,x05,xvals,f]"
   ]
  },
  {
   "cell_type": "code",
   "execution_count": 9,
   "id": "cac80230",
   "metadata": {},
   "outputs": [
    {
     "name": "stdout",
     "output_type": "stream",
     "text": [
      "0.47343858031804564\n",
      "[0.85340113 0.69610949 0.11454053]\n"
     ]
    }
   ],
   "source": [
    "#create a parameter set for equilibrium model\n",
    "pars=np.concatenate((np.array([10,1,1,1]),np.ones(10),np.array([1000])))\n",
    "\n",
    "\n",
    "instance=N4av.GRFCalculations_ld_50_15()\n",
    "othervars=np.array([0])\n",
    "instance.fill_num_den(pars,othervars)\n",
    "x=0.11\n",
    "print(instance.interfaceGRF(x)) #GRF value according to the equilibrium model\n",
    "ps=instance.interfaceps(minx0=True,maxx1=True,verbose=True) #positions steepness according to equilibrium model\n",
    "print(ps)"
   ]
  },
  {
   "cell_type": "code",
   "execution_count": 10,
   "id": "fa7642f6",
   "metadata": {},
   "outputs": [
    {
     "data": {
      "text/plain": [
       "array([  10.,    1.,    1.,    1.,    1.,    1.,    1.,    1.,    1.,\n",
       "          1.,    1.,    1.,    1.,    1., 1000.])"
      ]
     },
     "execution_count": 10,
     "metadata": {},
     "output_type": "execute_result"
    }
   ],
   "source": [
    "pars"
   ]
  },
  {
   "cell_type": "code",
   "execution_count": 11,
   "id": "e7105d95",
   "metadata": {},
   "outputs": [],
   "source": [
    "pars_forcpp=get_pars_forcpp(fill_dict(pars)) #get corresponding parameters for noneq model code. Backward rates set to 1."
   ]
  },
  {
   "cell_type": "code",
   "execution_count": 12,
   "id": "0d945821",
   "metadata": {},
   "outputs": [
    {
     "data": {
      "text/plain": [
       "array([1.e+01, 1.e+00, 1.e+00, 1.e+00, 1.e+00, 1.e+00, 1.e+00, 1.e+00,\n",
       "       1.e+00, 1.e+00, 1.e+00, 1.e+00, 1.e+00, 1.e+00, 1.e+01, 1.e+00,\n",
       "       1.e+00, 1.e+00, 1.e+00, 1.e+00, 1.e+01, 1.e+00, 1.e+00, 1.e+00,\n",
       "       1.e+00, 1.e+00, 1.e+01, 1.e+00, 1.e+00, 1.e+00, 1.e+00, 1.e+00,\n",
       "       1.e+00, 1.e+00, 1.e+00, 1.e+00, 1.e+00, 1.e+00, 1.e+00, 1.e+00,\n",
       "       1.e+00, 1.e+00, 1.e+00, 1.e+00, 1.e+01, 1.e+00, 1.e+00, 1.e+00,\n",
       "       1.e+01, 1.e+00, 1.e+00, 1.e+00, 1.e+01, 1.e+00, 1.e+00, 1.e+00,\n",
       "       1.e+03, 1.e+00, 1.e+03, 1.e+00, 1.e+03, 1.e+00, 1.e+04, 1.e+00])"
      ]
     },
     "execution_count": 12,
     "metadata": {},
     "output_type": "execute_result"
    }
   ],
   "source": [
    "pars_forcpp"
   ]
  },
  {
   "cell_type": "code",
   "execution_count": 13,
   "id": "fc3f4e9e",
   "metadata": {},
   "outputs": [
    {
     "data": {
      "text/plain": [
       "0.47343858031804564"
      ]
     },
     "execution_count": 13,
     "metadata": {},
     "output_type": "execute_result"
    }
   ],
   "source": [
    "N4av_noneq_100.getGRFval(pars_forcpp,x)"
   ]
  },
  {
   "cell_type": "markdown",
   "id": "440b9a8b",
   "metadata": {},
   "source": [
    "Note that this is the same value that we obtained above for the eq. code"
   ]
  },
  {
   "cell_type": "code",
   "execution_count": 16,
   "id": "389795bc",
   "metadata": {},
   "outputs": [
    {
     "name": "stdout",
     "output_type": "stream",
     "text": [
      "0.5000000001624613 0.11478723194712455\n",
      "0.8510694130335373 0.6975984258011498 0.11478723194712455\n"
     ]
    }
   ],
   "source": [
    "#this takes about 1.5 min\n",
    "out=calculate_ps_fromnumerics(pars_forcpp)\n",
    "print(out[0],out[1],out[2])"
   ]
  },
  {
   "cell_type": "code",
   "execution_count": 42,
   "id": "d343e32c",
   "metadata": {},
   "outputs": [
    {
     "data": {
      "image/png": "[encoded data removed]",
      "text/plain": [
       "<Figure size 432x288 with 1 Axes>"
      ]
     },
     "metadata": {
      "needs_background": "light"
     },
     "output_type": "display_data"
    }
   ],
   "source": [
    "#finally plot both curves\n",
    "instance.fill_num_den(pars,np.array([0]))\n",
    "\n",
    "\n",
    "x05,xvals,f=out[-3:]\n",
    "\n",
    "fig,ax=plt.subplots(1,1,figsize=(6,4))\n",
    "ax.plot(xvals,f,color=\"r\",label=\"noneq code\")\n",
    "ax.plot(xvals,[instance.interfaceGRF(x) for x in xvals],color=\"b\",linestyle=\":\",label=\"eq code\")\n",
    "ax.axvline(x=x05,linestyle=\":\",color=\"gray\")\n",
    "        \n",
    "ax.set_xlabel(\"x\")\n",
    "ax.set_ylabel(\"f(x)\")\n",
    "ax.set_xscale(\"log\")\n",
    "ax.legend()\n",
    "\n",
    "\n",
    "#ax2=ax.twinx()\n",
    "#ax2.plot(xvals2[:-1],derivative,color=\"r\")\n",
    "#ax2.axvline(x=ps[0],linestyle=\":\",color=\"r\")\n",
    "#ax2.axhline(y=ps[1],linestyle=\":\",color=\"r\")\n",
    "#ax2.axvline(x=pos,linestyle=\":\",color=\"magenta\")\n",
    "#ax2.axhline(y=stp,linestyle=\":\",color=\"magenta\")\n",
    "#ax2.set_ylabel(\"diff(f(x*x05))/diff(x)\")\n",
    "#\n",
    "\n",
    "plt.tight_layout()\n",
    "\n",
    "plt.show()"
   ]
  },
  {
   "cell_type": "code",
   "execution_count": null,
   "id": "183f874e",
   "metadata": {},
   "outputs": [],
   "source": []
  }
 ],
 "metadata": {
  "kernelspec": {
   "display_name": "Python 3 (ipykernel)",
   "language": "python",
   "name": "python3"
  },
  "language_info": {
   "codemirror_mode": {
    "name": "ipython",
    "version": 3
   },
   "file_extension": ".py",
   "mimetype": "text/x-python",
   "name": "python",
   "nbconvert_exporter": "python",
   "pygments_lexer": "ipython3",
   "version": "3.10.8"
  },
  "nbTranslate": {
   "displayLangs": [
    "*"
   ],
   "hotkey": "alt-t",
   "langInMainMenu": true,
   "sourceLang": "en",
   "targetLang": "fr",
   "useGoogleTranslate": true
  },
  "toc": {
   "base_numbering": 1,
   "nav_menu": {},
   "number_sections": true,
   "sideBar": true,
   "skip_h1_title": false,
   "title_cell": "Table of Contents",
   "title_sidebar": "Contents",
   "toc_cell": false,
   "toc_position": {},
   "toc_section_display": true,
   "toc_window_display": false
  }
 },
 "nbformat": 4,
 "nbformat_minor": 5
}
